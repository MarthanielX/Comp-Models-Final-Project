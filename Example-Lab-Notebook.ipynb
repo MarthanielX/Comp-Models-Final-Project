{
 "cells": [
  {
   "cell_type": "markdown",
   "metadata": {},
   "source": [
    "### 2 October 2018"
   ]
  },
  {
   "cell_type": "markdown",
   "metadata": {},
   "source": [
    "<ul>\n",
    "<li>Started brainstorming project ideas. Came up with the following:\n",
    "<ul>\n",
    "<li>Modeling how people make decisions when there's time pressure.</li>\n",
    "<li>Looking at how well existing memory models predict several classic experimental results.</li>\n",
    "<li>Something about education - maybe seeing if a model can come up with customized feedback for algebra solving?</li>\n",
    "</ul>\n",
    "<li>I'm most excited about the second one, but I need to think through what data is available and better understand the models that are out there.</li>\n",
    "<li>I also skimmed the following article: <a href=\"http://www.indiana.edu/~clcl/Q550/Papers/Burgess%282000%29.pdf\">Burgess, C. (2000). Theory and operational definitions in computational memory models: A response to Glenberg and Robertson. Journal of Memory and Language, 43(3), 402-408.</a> I'm still understanding it, but will write a summary next time.</li>\n",
    "<li>Next time I work on the project, I'll focus on better understanding the paper above and also search out additional papers.</li>\n",
    "</ul>"
   ]
  },
  {
   "cell_type": "markdown",
   "metadata": {},
   "source": [
    "***many entries omitted from example***"
   ]
  },
  {
   "cell_type": "markdown",
   "metadata": {},
   "source": [
    "### 28 October 2018\n",
    "** Written by Anna and Eris (her teammate) **"
   ]
  },
  {
   "cell_type": "markdown",
   "metadata": {},
   "source": [
    "<ul>\n",
    "<li>We just finished implementing the first model (described in Anderson, J. A., Silverstein, J. W., Ritz, S. A., & Jones, R. S. (1977). Distinctive features, categorical perception, and probability learning: Some applications of a neural model. Psychological Review, 84(5), 413-451). The code is in the file <tt>anderson_model.py</tt>. Below are some test cases we came up with for checking if the implementation works.</li>\n",
    "</ul>"
   ]
  },
  {
   "cell_type": "markdown",
   "metadata": {},
   "source": [
    "***test cases omitted***"
   ]
  },
  {
   "cell_type": "markdown",
   "metadata": {},
   "source": [
    "### 1 November 2018"
   ]
  },
  {
   "cell_type": "markdown",
   "metadata": {},
   "source": [
    "<ul>\n",
    "<li>Below is a graph comparing human data and the Anderson model's predictions. The thing I'm noticing is how well it does with spacing, although it does less well with recency effects.\n",
    "</li>\n",
    "</ul>"
   ]
  },
  {
   "cell_type": "markdown",
   "metadata": {},
   "source": [
    "***code for generating graph omitted***"
   ]
  },
  {
   "cell_type": "markdown",
   "metadata": {},
   "source": [
    "<ul>\n",
    "<li>Next steps: Implement the model in this paper:\n",
    "<a href=\"http://memory.psych.upenn.edu/files/pubs/HowaKaha02.pdf\">Howard, M. W. and Kahana, M. J. (2002). A distributed representation of temporal context. Journal of Mathematical Psychology, 46, 269–299.</a>\n",
    "</li>\n",
    "</ul>"
   ]
  },
  {
   "cell_type": "markdown",
   "metadata": {},
   "source": [
    "***remaining entries omitted***"
   ]
  }
 ],
 "metadata": {
  "kernelspec": {
   "display_name": "Python 3",
   "language": "python",
   "name": "python3"
  },
  "language_info": {
   "codemirror_mode": {
    "name": "ipython",
    "version": 3
   },
   "file_extension": ".py",
   "mimetype": "text/x-python",
   "name": "python",
   "nbconvert_exporter": "python",
   "pygments_lexer": "ipython3",
   "version": "3.5.2"
  }
 },
 "nbformat": 4,
 "nbformat_minor": 0
}
